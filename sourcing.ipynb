{
 "cells": [
  {
   "cell_type": "code",
   "execution_count": 1,
   "metadata": {},
   "outputs": [],
   "source": [
    "import csv"
   ]
  },
  {
   "attachments": {},
   "cell_type": "markdown",
   "metadata": {},
   "source": [
    "We will examine a csv file without header  how to read"
   ]
  },
  {
   "attachments": {},
   "cell_type": "markdown",
   "metadata": {},
   "source": [
    "Now we will examine csv file how to read if it have a header"
   ]
  },
  {
   "cell_type": "code",
   "execution_count": 2,
   "metadata": {},
   "outputs": [
    {
     "name": "stdout",
     "output_type": "stream",
     "text": [
      "Doe\n",
      "McGinnis\n",
      "Repici\n",
      "Tyler\n",
      "Blankman\n",
      "Jet\n"
     ]
    }
   ],
   "source": [
    "with open('/Users/daudkhan/data/addresses.csv') as csvfile:\n",
    "    reader = csv.reader(csvfile, skipinitialspace= True)\n",
    "    for row in reader:\n",
    "        #print(row) #it wll show all the data in the file\n",
    "        print(row[1])# it will print all the data  on index 1"
   ]
  },
  {
   "cell_type": "code",
   "execution_count": 3,
   "metadata": {},
   "outputs": [
    {
     "name": "stdout",
     "output_type": "stream",
     "text": [
      "Alex M 41\n",
      "Bert M 42\n",
      "Carl M 32\n",
      "Dave M 39\n",
      "Elly F 30\n",
      "Fran F 33\n",
      "Gwen F 26\n",
      "Hank M 30\n",
      "Ivan M 53\n",
      "Jake M 32\n",
      "Kate F 47\n",
      "Luke M 34\n",
      "Myra F 23\n",
      "Neil M 36\n",
      "Omar M 38\n",
      "Page F 31\n",
      "Quin M 29\n",
      "Ruth F 28\n"
     ]
    }
   ],
   "source": [
    "import csv\n",
    "with open('/Users/daudkhan/data/biostats.csv') as csvfile:\n",
    "    reader = csv.DictReader(csvfile, skipinitialspace=True)\n",
    "    for row in reader:\n",
    "        print(row['Name'],row['Sex'],int(row['Age']))"
   ]
  },
  {
   "cell_type": "code",
   "execution_count": 4,
   "metadata": {},
   "outputs": [],
   "source": [
    "beatles = [\n",
    "    { 'first_name': 'John', 'last_name': 'lennon', 'instrument': 'guitar'},\n",
    "    { 'first_name': 'Ringo', 'last_name': 'Starr', 'instrument': 'drums'}\n",
    "]"
   ]
  },
  {
   "cell_type": "code",
   "execution_count": 5,
   "metadata": {},
   "outputs": [],
   "source": [
    "import csv\n",
    "\n",
    "with open('/Users/daudkhan/data/beatles.csv', 'w') as csvfile:\n",
    "    writer = csv.DictWriter(csvfile, fieldnames=beatles[0].keys())\n",
    "    writer.writeheader()\n",
    "    for beatle in beatles:\n",
    "          writer.writerow(beatle)"
   ]
  },
  {
   "attachments": {},
   "cell_type": "markdown",
   "metadata": {},
   "source": [
    "Here we have given the file path and open it in write  \n"
   ]
  }
 ],
 "metadata": {
  "kernelspec": {
   "display_name": "lewagon",
   "language": "python",
   "name": "python3"
  },
  "language_info": {
   "codemirror_mode": {
    "name": "ipython",
    "version": 3
   },
   "file_extension": ".py",
   "mimetype": "text/x-python",
   "name": "python",
   "nbconvert_exporter": "python",
   "pygments_lexer": "ipython3",
   "version": "3.9.12"
  },
  "orig_nbformat": 4
 },
 "nbformat": 4,
 "nbformat_minor": 2
}
